{
 "cells": [
  {
   "cell_type": "code",
   "execution_count": 4,
   "metadata": {},
   "outputs": [],
   "source": [
    "from selenium import webdriver # Used to import the driver "
   ]
  },
  {
   "cell_type": "code",
   "execution_count": 7,
   "metadata": {},
   "outputs": [],
   "source": [
    "def bot(usr,pas):\n",
    "    \n",
    "    br=webdriver.Firefox() # you can import driver for any browser but install geckodriver for thet browser\n",
    "    br.get(\"Enter your link\")\n",
    "    user=br.find_element_by_css_selector(\"#Enter the id name of id box using inspect\") \n",
    "    user.clear()\n",
    "    user.send_keys(usr) # Fill the email box by given username or email id\n",
    "    pasd=br.find_element_by_css_selector(\"#Enter the id name of password box using inspect\")\n",
    "    pasd.clear()\n",
    "    pasd.send_keys(pas) # Fill the password filled by given password \n",
    "    btn=br.find_element_by_css_selector(\"#Enter the id name of login button using inspect\")\n",
    "    btn.click() # Auto click the button \n",
    "    \n",
    "#main driver code\n",
    "\n",
    "bot(\" enter your id \",\" enter your password \")"
   ]
  },
  {
   "cell_type": "code",
   "execution_count": null,
   "metadata": {},
   "outputs": [],
   "source": []
  }
 ],
 "metadata": {
  "kernelspec": {
   "display_name": "Python 3",
   "language": "python",
   "name": "python3"
  },
  "language_info": {
   "codemirror_mode": {
    "name": "ipython",
    "version": 3
   },
   "file_extension": ".py",
   "mimetype": "text/x-python",
   "name": "python",
   "nbconvert_exporter": "python",
   "pygments_lexer": "ipython3",
   "version": "3.7.4"
  }
 },
 "nbformat": 4,
 "nbformat_minor": 2
}
